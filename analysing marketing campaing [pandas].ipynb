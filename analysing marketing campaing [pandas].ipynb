{
 "cells": [
  {
   "cell_type": "code",
   "execution_count": null,
   "id": "6fe5a090",
   "metadata": {},
   "outputs": [],
   "source": [
    "# Import pandas into the environment\n",
    "import pandas as pd"
   ]
  },
  {
   "cell_type": "code",
   "execution_count": null,
   "id": "8a314d5a",
   "metadata": {},
   "outputs": [],
   "source": [
    "# Import marketing.csv \n",
    "marketing = pd.read_csv('marketing.csv')"
   ]
  },
  {
   "cell_type": "code",
   "execution_count": null,
   "id": "b67e3eb6",
   "metadata": {},
   "outputs": [],
   "source": [
    "# Print the first five rows of the DataFrame\n",
    "print(marketing.head())"
   ]
  },
  {
   "cell_type": "code",
   "execution_count": null,
   "id": "7dd2707a",
   "metadata": {},
   "outputs": [],
   "source": [
    "# Print the statistics of all columns\n",
    "print(marketing.describe())"
   ]
  },
  {
   "cell_type": "code",
   "execution_count": null,
   "id": "616be7dd",
   "metadata": {},
   "outputs": [],
   "source": [
    "# Check column data types and non-missing values\n",
    "print(marketing.info())"
   ]
  },
  {
   "cell_type": "code",
   "execution_count": null,
   "id": "a41deced",
   "metadata": {},
   "outputs": [],
   "source": [
    "# Check the data type of is_retained\n",
    "print(marketing['is_retained'].dtype)"
   ]
  },
  {
   "cell_type": "code",
   "execution_count": null,
   "id": "239ede7e",
   "metadata": {},
   "outputs": [],
   "source": [
    "# Convert is_retained to a boolean\n",
    "marketing['is_retained'] = marketing['is_retained'].astype(\"bool\")\n",
    "\n",
    "# Check the data type of is_retained, again\n",
    "print(marketing['is_retained'].dtype)"
   ]
  },
  {
   "cell_type": "code",
   "execution_count": null,
   "id": "caff6ff5",
   "metadata": {},
   "outputs": [],
   "source": [
    "# Mapping for channels\n",
    "channel_dict = {\"House Ads\": 1, \"Instagram\": 2, \n",
    "                \"Facebook\": 3, \"Email\": 4, \"Push\": 5}\n",
    "\n",
    "# Map the channel to a channel code\n",
    "marketing['channel_code'] = marketing['subscribing_channel'].map(channel_dict)"
   ]
  },
  {
   "cell_type": "code",
   "execution_count": null,
   "id": "c01e26cd",
   "metadata": {},
   "outputs": [],
   "source": [
    "# Import numpy\n",
    "import numpy as np\n",
    "\n",
    "# Add the new column is_correct_lang\n",
    "marketing['is_correct_lang'] = np.where(\n",
    "    marketing['language_preferred'] == marketing['language_displayed'], \n",
    "    'Yes', \n",
    "    'No'\n",
    ")"
   ]
  },
  {
   "cell_type": "code",
   "execution_count": null,
   "id": "245755d2",
   "metadata": {},
   "outputs": [],
   "source": [
    "# Import pandas into the environment\n",
    "import pandas as pd\n",
    "\n",
    "# Import marketing.csv with date columns\n",
    "marketing = pd.read_csv(\"marketing.csv\", parse_dates = ['date_served', 'date_subscribed', 'date_canceled'])\n",
    "\n",
    "# Add a DoW column\n",
    "marketing['DoW'] = marketing[\"date_subscribed\"].dt.dayofweek"
   ]
  },
  {
   "cell_type": "code",
   "execution_count": null,
   "id": "463e6935",
   "metadata": {},
   "outputs": [],
   "source": [
    "# Group by date_served and count number of unique user_id's\n",
    "daily_users = marketing.groupby(['date_served'])['user_id'].nunique()\n",
    "\n",
    "# Print head of daily_users\n",
    "print(daily_users.head())"
   ]
  },
  {
   "cell_type": "code",
   "execution_count": null,
   "id": "9d558114",
   "metadata": {},
   "outputs": [],
   "source": [
    "import matplotlib.pyplot as plt\n",
    "\n",
    "# Plot daily_subscribers\n",
    "daily_users.plot()\n",
    "\n",
    "# Include a title and y-axis label\n",
    "plt.title('Daily users')\n",
    "plt.ylabel('Number of users')\n",
    "\n",
    "# Rotate the x-axis labels by 45 degrees\n",
    "plt.xticks(rotation = 45)\n",
    "\n",
    "# Display the plot\n",
    "plt.show()"
   ]
  },
  {
   "cell_type": "code",
   "execution_count": null,
   "id": "0e0bd016",
   "metadata": {},
   "outputs": [],
   "source": [
    "# Calculate the number of people we marketed to\n",
    "total = marketing[\"user_id\"].nunique()\n",
    "\n",
    "\n",
    "# Calculate the number of people who subscribed\n",
    "subscribers = marketing[marketing['converted'] == True]['user_id'].nunique()\n",
    "\n",
    "# Calculate the conversion rate\n",
    "conversion_rate = subscribers/total\n",
    "print(round(conversion_rate*100, 2), \"%\")"
   ]
  },
  {
   "cell_type": "code",
   "execution_count": null,
   "id": "dfe2fd96",
   "metadata": {},
   "outputs": [],
   "source": [
    "# Calculate the number of subscribers\n",
    "total_subscribers = marketing[marketing[\"converted\"] == True]\\\n",
    "                            ['user_id'].nunique()\n",
    "\n",
    "# Calculate the number of people who remained subscribed\n",
    "retained = marketing[marketing['is_retained'] == True]\\\n",
    "                   ['user_id'].nunique()\n",
    "\n",
    "# Calculate the retention rate\n",
    "retention_rate = retained/total_subscribers\n",
    "print(round(retention_rate*100, 2), \"%\")"
   ]
  },
  {
   "cell_type": "code",
   "execution_count": null,
   "id": "36f6b950",
   "metadata": {},
   "outputs": [],
   "source": [
    "# Isolate english speakers\n",
    "english_speakers = marketing[marketing['language_displayed'] == 'English']\n",
    "\n",
    "# Calculate the total number of english speaking users\n",
    "total = english_speakers['user_id'].nunique()\n",
    "\n",
    "# Calculate the number of english speakers who converted\n",
    "subscribers = english_speakers[english_speakers['converted'] == True]\\\n",
    "                            ['user_id'].nunique()\n",
    "\n",
    "# Calculate conversion rate\n",
    "conversion_rate = subscribers/total\n",
    "print('English speaker conversion rate:',  round(conversion_rate*100,2), '%')"
   ]
  },
  {
   "cell_type": "code",
   "execution_count": null,
   "id": "6d544a49",
   "metadata": {},
   "outputs": [],
   "source": [
    "# Group by language_displayed and count unique users\n",
    "total = marketing.groupby(['language_displayed'])\\\n",
    "                                  ['user_id'].nunique()\n",
    "\n",
    "# Group by language_displayed and count unique conversions\n",
    "subscribers = marketing[marketing['converted'] == True]\\\n",
    "                       .groupby(['language_displayed'])\\\n",
    "                       ['user_id'].nunique()\n",
    "\n",
    "# Calculate the conversion rate for all languages\n",
    "language_conversion_rate = subscribers/total\n",
    "print(language_conversion_rate)"
   ]
  },
  {
   "cell_type": "code",
   "execution_count": null,
   "id": "08207391",
   "metadata": {},
   "outputs": [],
   "source": [
    "# Group by date_served and count unique users\n",
    "total = marketing.groupby(['date_served'])['user_id']\\\n",
    "                     .nunique()\n",
    "\n",
    "# Group by date_served and count unique converted users\n",
    "subscribers = marketing[marketing['converted'] == True]\\\n",
    "                         .groupby(['date_served'])\\\n",
    "                         ['user_id'].nunique()\n",
    "\n",
    "# Calculate the conversion rate per day\n",
    "daily_conversion_rate = subscribers/total\n",
    "print(daily_conversion_rate)"
   ]
  },
  {
   "cell_type": "code",
   "execution_count": null,
   "id": "a52b6eeb",
   "metadata": {},
   "outputs": [],
   "source": [
    "# Create a bar chart using language_conversion_rate DataFrame\n",
    "language_conversion_rate.plot(kind = \"bar\")\n",
    "\n",
    "# Add a title and x and y-axis labels\n",
    "plt.title('Conversion rate by language\\n', size = 16)\n",
    "plt.xlabel('Language', size = 14)\n",
    "plt.ylabel('Conversion rate (%)', size = 14)\n",
    "\n",
    "# Display the plot\n",
    "plt.show()"
   ]
  },
  {
   "cell_type": "code",
   "execution_count": null,
   "id": "f5d7eecd",
   "metadata": {},
   "outputs": [],
   "source": [
    "# Group by date_served and count unique users\n",
    "\n",
    "print(marketing.head())\n",
    "total = marketing.groupby(['date_served'])['user_id']\\\n",
    "                     .nunique()\n",
    "\n",
    "# Group by date_served and calculate subscribers\n",
    "subscribers = marketing[marketing['converted'] == True]\\\n",
    "                         .groupby(['date_served'])\\\n",
    "                         ['user_id'].nunique()\n",
    "\n",
    "# Calculate the conversion rate for all languages\n",
    "daily_conversion_rates = subscribers/total"
   ]
  },
  {
   "cell_type": "code",
   "execution_count": null,
   "id": "a326e7dc",
   "metadata": {},
   "outputs": [],
   "source": [
    "# Reset index to turn the results into a DataFrame\n",
    "daily_conversion_rate = pd.DataFrame(daily_conversion_rates.reset_index())\n",
    "\n",
    "# Rename columns\n",
    "daily_conversion_rate.columns = ['date_served', 'conversion_rate']"
   ]
  },
  {
   "cell_type": "code",
   "execution_count": null,
   "id": "b6684b08",
   "metadata": {},
   "outputs": [],
   "source": [
    "# Create a line chart using daily_conversion_rate\n",
    "\n",
    "daily_conversion_rate.plot(\"date_served\", \"conversion_rate\")\n",
    "\n",
    "plt.title('Daily conversion rate\\n', size = 16)\n",
    "plt.ylabel('Conversion rate (%)', size = 14)\n",
    "plt.xlabel('Date', size = 14)\n",
    "\n",
    "# Set the y-axis to begin at 0\n",
    "plt.ylim(0)\n",
    "\n",
    "# Display the plot\n",
    "plt.show()"
   ]
  },
  {
   "cell_type": "code",
   "execution_count": null,
   "id": "ab23c6ad",
   "metadata": {},
   "outputs": [],
   "source": [
    "channel_age = marketing.groupby(['marketing_channel', 'age_group'])\\\n",
    "                                ['user_id'].count()\n",
    "\n",
    "# Unstack channel_age and transform it into a DataFrame\n",
    "channel_age_df = pd.DataFrame(channel_age.unstack(level = 1))\n",
    "\n",
    "# Plot channel_age\n",
    "channel_age_df.plot(kind = 'bar')\n",
    "plt.title('Marketing channels by age group')\n",
    "plt.xlabel('Age Group')\n",
    "plt.ylabel('Users')\n",
    "# Add a legend to the plot\n",
    "plt.legend(loc = 'upper right', \n",
    "           labels = channel_age_df.columns.values)\n",
    "plt.show()"
   ]
  },
  {
   "cell_type": "code",
   "execution_count": null,
   "id": "6a9eeb19",
   "metadata": {},
   "outputs": [],
   "source": [
    "retention_total = marketing.groupby(['date_subscribed', 'subscribing_channel'])['user_id'].nunique()\n",
    "\n",
    "# Print results\n",
    "print(retention_total.head())"
   ]
  },
  {
   "cell_type": "code",
   "execution_count": null,
   "id": "30f602ec",
   "metadata": {},
   "outputs": [],
   "source": [
    "# Count the retained subs by subscribing channel and date subscribed\n",
    "retention_subs = marketing[marketing['is_retained'] == True]\\\n",
    "                           .groupby(['date_subscribed',\n",
    "                                     'subscribing_channel'])\\\n",
    "                            ['user_id'].nunique()\n",
    "\n",
    "# Print results\n",
    "print(retention_subs.head())"
   ]
  },
  {
   "cell_type": "code",
   "execution_count": null,
   "id": "d6b2bf2c",
   "metadata": {},
   "outputs": [],
   "source": [
    "# Divide retained subscribers by total subscribers\n",
    "retention_rate = retention_subs/retention_total\n",
    "retention_rate_df = pd.DataFrame(retention_rate.unstack(level=1))\n",
    "\n",
    "# Plot retention rate\n",
    "retention_rate_df.plot()\n",
    "\n",
    "# Add a title, x-label, y-label, legend and display the plot\n",
    "plt.title('Retention Rate by Subscribing Channel')\n",
    "plt.xlabel('Date Subscribed')\n",
    "plt.ylabel('Retention Rate (%)')\n",
    "plt.legend(loc = 'upper right', \n",
    "labels = retention_rate_df.columns.values)\n",
    "plt.show()"
   ]
  },
  {
   "cell_type": "code",
   "execution_count": null,
   "id": "5f72feb7",
   "metadata": {},
   "outputs": [],
   "source": [
    "def conversion_rate(dataframe, column_names):\n",
    "    # Total number of converted users\n",
    "    column_conv = dataframe[dataframe['converted'] == True]\\\n",
    "                       .groupby(column_names)['user_id'].nunique()\n",
    "\n",
    "    # Total number users\n",
    "    column_total = dataframe.groupby(column_names)['user_id'].nunique()   \n",
    "    \n",
    "    # Conversion rate \n",
    "    conversion_rate = column_conv/column_total\n",
    "    \n",
    "    # Fill missing values with 0\n",
    "    conversion_rate = conversion_rate.fillna(0)\n",
    "    return conversion_rate"
   ]
  },
  {
   "cell_type": "code",
   "execution_count": null,
   "id": "5cc90da4",
   "metadata": {},
   "outputs": [],
   "source": [
    "# Calculate conversion rate by age_group\n",
    "age_group_conv = conversion_rate(marketing, ['date_served', 'age_group'])\n",
    "print(age_group_conv)\n",
    "\n",
    "# Unstack and create a DataFrame\n",
    "age_group_df = pd.DataFrame(age_group_conv.unstack(level = 1))\n",
    "\n",
    "# Visualize conversion by age_group\n",
    "age_group_df.plot()\n",
    "plt.title('Conversion rate by age group\\n', size = 16)\n",
    "plt.ylabel('Conversion rate', size = 14)\n",
    "plt.xlabel('Age group', size = 14)\n",
    "plt.show()"
   ]
  },
  {
   "cell_type": "code",
   "execution_count": null,
   "id": "e30d95fa",
   "metadata": {},
   "outputs": [],
   "source": [
    "def plotting_conv(dataframe):\n",
    "    for column in dataframe:\n",
    "        # Plot column by dataframe's index\n",
    "        plt.plot(dataframe.index, dataframe[column])\n",
    "        plt.title('Daily ' + str(column) + ' conversion rate\\n', \n",
    "                  size = 16)\n",
    "        plt.ylabel('Conversion rate', size = 14)\n",
    "        plt.xlabel('Date', size = 14)\n",
    "        # Show plot\n",
    "        plt.show()\n",
    "        plt.clf()"
   ]
  },
  {
   "cell_type": "code",
   "execution_count": null,
   "id": "50ca3414",
   "metadata": {},
   "outputs": [],
   "source": [
    "# Calculate conversion rate by date served and age group\n",
    "age_group_conv = conversion_rate(marketing, ['date_served', 'age_group'])\n",
    "\n",
    "# Unstack age_group_conv and create a DataFrame\n",
    "age_group_df = pd.DataFrame(age_group_conv.unstack(level=1))\n",
    "\n",
    "# Plot the results\n",
    "plotting_conv(age_group_df)\n"
   ]
  },
  {
   "cell_type": "code",
   "execution_count": null,
   "id": "15b72651",
   "metadata": {},
   "outputs": [],
   "source": [
    "# Calculate conversion rate by date served and channel\n",
    "daily_conv_channel = conversion_rate(marketing, ['date_served', 'marketing_channel'])\n",
    "\n",
    "print(daily_conv_channel.head())"
   ]
  },
  {
   "cell_type": "code",
   "execution_count": null,
   "id": "9e28f214",
   "metadata": {},
   "outputs": [],
   "source": [
    "# Calculate conversion rate by date served and channel\n",
    "daily_conv_channel = conversion_rate(marketing, ['date_served', \n",
    "                                                 'marketing_channel'])\n",
    "\n",
    "# Unstack daily_conv_channel and convert it to a DataFrame\n",
    "daily_conv_channel = pd.DataFrame(daily_conv_channel.unstack(level = 1))\n",
    "\n",
    "# Plot results of daily_conv_channel\n",
    "plotting_conv(daily_conv_channel)"
   ]
  },
  {
   "cell_type": "code",
   "execution_count": null,
   "id": "e4882e1b",
   "metadata": {},
   "outputs": [],
   "source": [
    "# Add day of week column to marketing\n",
    "marketing['DoW_served'] = marketing['date_served'].dt.dayofweek\n",
    "\n",
    "\n",
    "print(marketing.head())\n",
    "# Calculate conversion rate by day of week\n",
    "DoW_conversion = conversion_rate(marketing, ['DoW_served', 'marketing_channel'])\n",
    "\n",
    "\n",
    "# Unstack channels\n",
    "DoW_df = pd.DataFrame(DoW_conversion.unstack(level=1))\n",
    "\n",
    "# Plot conversion rate by day of week\n",
    "DoW_df.plot()\n",
    "plt.title('Conversion rate by day of week\\n')\n",
    "plt.ylim(0)\n",
    "plt.show()"
   ]
  },
  {
   "cell_type": "code",
   "execution_count": null,
   "id": "fccb6f4d",
   "metadata": {},
   "outputs": [],
   "source": [
    "# Isolate the rows where marketing channel is House Ads\n",
    "house_ads = marketing[marketing['marketing_channel'] == 'House Ads']\n",
    "\n",
    "# Calculate conversion by date served, and language displayed\n",
    "conv_lang_channel = conversion_rate(house_ads, ['date_served', 'language_displayed'])\n",
    "\n",
    "# Unstack conv_lang_channel\n",
    "conv_lang_df = pd.DataFrame(conv_lang_channel.unstack(level=1))\n",
    "\n",
    "# Use your plotting function to display results\n",
    "plotting_conv(conv_lang_df)"
   ]
  },
  {
   "cell_type": "code",
   "execution_count": null,
   "id": "2333f7a1",
   "metadata": {},
   "outputs": [],
   "source": [
    "# Add the new column is_correct_lang\n",
    "house_ads['is_correct_lang'] = np.where(\n",
    "    house_ads['language_preferred'] == house_ads['language_displayed'], \n",
    "    'Yes', \n",
    "    'No')\n",
    "\n",
    "# Groupby date_served and is_correct_lang\n",
    "language_check = house_ads.groupby(['date_served','is_correct_lang'])['is_correct_lang'].count()\n",
    "\n",
    "# Unstack language_check and fill missing values with 0's\n",
    "language_check_df = pd.DataFrame(language_check.unstack(level=1)).fillna(0)\n",
    "\n",
    "# Print results\n",
    "print(language_check_df)"
   ]
  },
  {
   "cell_type": "code",
   "execution_count": null,
   "id": "cbc0e476",
   "metadata": {},
   "outputs": [],
   "source": [
    "# Divide the count where language is correct by the row sum\n",
    "language_check_df['pct'] = language_check_df['Yes']/language_check_df.sum(axis=1)\n",
    "\n",
    "# Plot and show your results\n",
    "plt.plot(language_check_df.index.values, language_check_df['pct'])\n",
    "plt.show()\n"
   ]
  },
  {
   "cell_type": "code",
   "execution_count": null,
   "id": "8c3eb3b1",
   "metadata": {},
   "outputs": [],
   "source": [
    "# Calculate pre-error conversion rate\n",
    "house_ads_bug = house_ads[house_ads['date_served'] < '2018-01-11']\n",
    "\n",
    "print(house_ads_bug.head())\n",
    "lang_conv = conversion_rate(house_ads_bug, \"language_displayed\")\n",
    "print(lang_conv.head())\n",
    "\n",
    "# Index other language conversion rate against English\n",
    "spanish_index = lang_conv['Spanish']/lang_conv['English']\n",
    "arabic_index = lang_conv['Arabic']/lang_conv['English']\n",
    "german_index = lang_conv['German']/lang_conv['English']\n",
    "\n",
    "\n",
    "print(\"Spanish index:\", spanish_index)\n",
    "print(\"Arabic index:\", arabic_index)\n",
    "print(\"German index:\", german_index)"
   ]
  },
  {
   "cell_type": "code",
   "execution_count": null,
   "id": "3763b10c",
   "metadata": {},
   "outputs": [],
   "source": [
    "# Group house_ads by date and language\n",
    "converted = house_ads.groupby([\"date_served\", \"language_preferred\"])\\\n",
    "                        .agg({'user_id':'nunique',\n",
    "                              'converted':'sum'})\n",
    "\n",
    "# Unstack converted\n",
    "converted_df = pd.DataFrame(converted.unstack(level = 1))\n",
    "\n",
    "print(converted_df.head())"
   ]
  },
  {
   "cell_type": "code",
   "execution_count": null,
   "id": "1017def8",
   "metadata": {},
   "outputs": [],
   "source": [
    "# Create English conversion rate column for affected period\n",
    "converted['english_conv_rate'] = converted_df.loc['2018-01-11':'2018-01-31'][('converted','English')]\n",
    "\n",
    "# Create expected conversion rates for each language\n",
    "converted['expected_spanish_rate'] = converted['english_conv_rate']*spanish_index\n",
    "converted['expected_arabic_rate'] = converted['english_conv_rate']*arabic_index\n",
    "converted['expected_german_rate'] = converted['english_conv_rate']*german_index\n",
    "\n",
    "# Multiply number of users by the expected conversion rate\n",
    "converted['expected_spanish_conv'] = converted['expected_spanish_rate']/100*converted_df[('user_id','Spanish')]\n",
    "converted['expected_arabic_conv'] = converted['expected_arabic_rate']/100*converted_df[('user_id','Arabic')]\n",
    "converted['expected_german_conv'] = converted['expected_german_rate']/100*converted_df[('user_id','German')]"
   ]
  },
  {
   "cell_type": "code",
   "execution_count": null,
   "id": "8e387a38",
   "metadata": {},
   "outputs": [],
   "source": [
    "# Use .loc to slice only the relevant dates\n",
    "converted = converted.loc['2018-01-11':'2018-01-31']\n",
    "\n",
    "# Sum expected subscribers for each language\n",
    "expected_subs = converted['expected_spanish_conv'].sum() + converted['expected_arabic_conv'].sum() + converted['expected_german_conv'].sum()\n",
    "\n",
    "# Calculate how many subscribers we actually got\n",
    "actual_subs = converted_df[('converted','Spanish')].sum() + converted_df[('converted','Arabic')].sum() + converted_df[('converted','German')].sum()\n",
    "\n",
    "# Subtract how many subscribers we got despite the bug\n",
    "lost_subs = expected_subs - actual_subs\n",
    "print(lost_subs)"
   ]
  },
  {
   "cell_type": "code",
   "execution_count": null,
   "id": "0342e2e3",
   "metadata": {},
   "outputs": [],
   "source": [
    "# Subset the DataFrame\n",
    "email = marketing[marketing['marketing_channel'] == 'Email']\n",
    "\n",
    "\n",
    "# Group the email DataFrame by variant \n",
    "alloc = email.groupby(['variant'])['user_id'].nunique()\n",
    "\n",
    "# Plot a bar chart of the test allocation\n",
    "alloc.plot(kind = \"bar\")\n",
    "plt.title('Personalization test allocation')\n",
    "plt.ylabel('# participants')\n",
    "plt.show()\n"
   ]
  },
  {
   "cell_type": "code",
   "execution_count": null,
   "id": "fe92a394",
   "metadata": {},
   "outputs": [],
   "source": [
    "# Group marketing by user_id and variant\n",
    "subscribers = email.groupby(['user_id', \n",
    "                             'variant'])['converted'].max()\n",
    "subscribers_df = pd.DataFrame(subscribers.unstack(level=1)) \n",
    "\n",
    "# Drop missing values from the control column\n",
    "control = subscribers_df['control'].dropna()\n",
    "\n",
    "# Drop missing values from the personalization column\n",
    "personalization = subscribers_df['personalization'].dropna()\n",
    "\n",
    "print('Control conversion rate:', np.mean(control))\n",
    "print('Personalization conversion rate:', np.mean(personalization))"
   ]
  }
 ],
 "metadata": {
  "kernelspec": {
   "display_name": "Python 3 (ipykernel)",
   "language": "python",
   "name": "python3"
  },
  "language_info": {
   "codemirror_mode": {
    "name": "ipython",
    "version": 3
   },
   "file_extension": ".py",
   "mimetype": "text/x-python",
   "name": "python",
   "nbconvert_exporter": "python",
   "pygments_lexer": "ipython3",
   "version": "3.10.10"
  }
 },
 "nbformat": 4,
 "nbformat_minor": 5
}
