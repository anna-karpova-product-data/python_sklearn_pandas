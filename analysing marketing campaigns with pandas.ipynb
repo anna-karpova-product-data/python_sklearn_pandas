# Import pandas into the environment
import pandas as pd

